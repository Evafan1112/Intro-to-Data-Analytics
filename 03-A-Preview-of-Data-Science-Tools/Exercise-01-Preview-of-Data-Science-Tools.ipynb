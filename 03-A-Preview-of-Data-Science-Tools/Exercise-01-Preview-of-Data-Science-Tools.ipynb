{
 "cells": [
  {
   "cell_type": "markdown",
   "metadata": {
    "id": "mlvV1GDgK4ia"
   },
   "source": [
    "# Exercise - A Preview of Data Science Tools\n",
    "In the following cell two lists of weight (in lbs) and height (in inches) of 12 basketball players are given:"
   ]
  },
  {
   "cell_type": "code",
<<<<<<< HEAD
   "execution_count": 42,
   "metadata": {},
=======
   "execution_count": null,
   "metadata": {
    "id": "ibitFtScK4ib"
   },
>>>>>>> d51d8e3fd84e186610b9c186308772d0662b3377
   "outputs": [],
   "source": [
    "height_in = [73, 74, 71, 75, 74, 72, 70, 71, 68, 69, 72, 71]\n",
    "weight_lb = [170 , 215, 210 , 204, 189, 195, 190, 194, 200, 178, 199, 202]"
   ]
  },
  {
   "cell_type": "markdown",
   "metadata": {
    "id": "HtQxVsKeK4ib"
   },
   "source": [
    "Import the numpy package as np"
   ]
  },
  {
   "cell_type": "code",
<<<<<<< HEAD
   "execution_count": 43,
   "metadata": {},
=======
   "execution_count": null,
   "metadata": {
    "id": "MJLPjDSJK4ib"
   },
>>>>>>> d51d8e3fd84e186610b9c186308772d0662b3377
   "outputs": [],
   "source": [
    "# Your answer goes here\n",
    "import numpy as np"
   ]
  },
  {
   "cell_type": "markdown",
   "metadata": {
    "id": "dbZBcZm7K4ib"
   },
   "source": [
    "Create 2 numpy arrays, `np_height_in` & `np_weight_lb`, from height and weight. Hint: one can make a numpy array from a python list, L, by `np.array(L)`."
   ]
  },
  {
   "cell_type": "code",
<<<<<<< HEAD
   "execution_count": 44,
   "metadata": {},
=======
   "execution_count": null,
   "metadata": {
    "id": "8BaXD89wK4ic"
   },
>>>>>>> d51d8e3fd84e186610b9c186308772d0662b3377
   "outputs": [],
   "source": [
    "# Your answer goes here\n",
    "np_height_in = np.array(height_in)\n",
    "np_weight_lb = np.array(weight_lb)"
   ]
  },
  {
   "cell_type": "markdown",
   "metadata": {
    "id": "95O1hDAqK4ic"
   },
   "source": [
    "Checkout the type of np_weight_lb:"
   ]
  },
  {
   "cell_type": "code",
<<<<<<< HEAD
   "execution_count": 45,
   "metadata": {},
=======
   "execution_count": null,
   "metadata": {
    "id": "e49KaQWoK4ic",
    "outputId": "5cfecbf7-2ce5-468c-e955-e11c67b89b0f"
   },
>>>>>>> d51d8e3fd84e186610b9c186308772d0662b3377
   "outputs": [
    {
     "data": {
      "text/plain": [
       "numpy.ndarray"
      ]
     },
     "execution_count": 45,
     "metadata": {},
     "output_type": "execute_result"
    }
   ],
   "source": [
    "# Your answer goes here\n",
    "type(np_weight_lb)"
   ]
  },
  {
   "cell_type": "markdown",
   "metadata": {
    "id": "M5vTf9obK4ic"
   },
   "source": [
    "This is how `np_weight_lb` will look like after the conversion:"
   ]
  },
  {
   "cell_type": "code",
<<<<<<< HEAD
   "execution_count": 46,
   "metadata": {},
=======
   "execution_count": null,
   "metadata": {
    "id": "tg2J44eGK4ic",
    "outputId": "ea7dbdf2-ab8e-483b-b27a-3a10b2ecbe4d"
   },
>>>>>>> d51d8e3fd84e186610b9c186308772d0662b3377
   "outputs": [
    {
     "data": {
      "text/plain": [
       "array([170, 215, 210, 204, 189, 195, 190, 194, 200, 178, 199, 202])"
      ]
     },
     "execution_count": 46,
     "metadata": {},
     "output_type": "execute_result"
    }
   ],
   "source": [
    "np_weight_lb"
   ]
  },
  {
   "cell_type": "markdown",
   "metadata": {
    "id": "SqvYYR0jK4ic"
   },
   "source": [
    "Convert `np_height_in` to meters and call it `np_height_m`, then print it. Hint: Use the formula $height(m) = height(in) * 2.54\\  /\\  100$."
   ]
  },
  {
   "cell_type": "code",
<<<<<<< HEAD
   "execution_count": 47,
   "metadata": {},
=======
   "execution_count": null,
   "metadata": {
    "id": "Yxf4SJn1K4ic",
    "outputId": "f9870912-86ed-442e-f699-d85f4f78d425"
   },
>>>>>>> d51d8e3fd84e186610b9c186308772d0662b3377
   "outputs": [
    {
     "data": {
      "text/plain": [
       "array([1.8542, 1.8796, 1.8034, 1.905 , 1.8796, 1.8288, 1.778 , 1.8034,\n",
       "       1.7272, 1.7526, 1.8288, 1.8034])"
      ]
     },
     "execution_count": 47,
     "metadata": {},
     "output_type": "execute_result"
    }
   ],
   "source": [
    "# Your answer goes here\n",
    "np_height_m = np_height_in*2.54/100\n",
    "np_height_m"
   ]
  },
  {
   "cell_type": "markdown",
   "metadata": {
    "id": "M_sdYWnSK4ic"
   },
   "source": [
    "Convert `np_weight_lb` to Kgs and call it `np_weight_kg`, then print it. Hint: Use the formula $weight(kg) = weight(lb) \\ /\\  2.2$."
   ]
  },
  {
   "cell_type": "code",
<<<<<<< HEAD
   "execution_count": 48,
   "metadata": {},
=======
   "execution_count": null,
   "metadata": {
    "id": "gz7Vtc9GK4ic",
    "outputId": "66372d71-03be-4ea5-b2a2-50a35f2861be"
   },
>>>>>>> d51d8e3fd84e186610b9c186308772d0662b3377
   "outputs": [
    {
     "data": {
      "text/plain": [
       "array([33.18181818, 33.63636364, 32.27272727, 34.09090909, 33.63636364,\n",
       "       32.72727273, 31.81818182, 32.27272727, 30.90909091, 31.36363636,\n",
       "       32.72727273, 32.27272727])"
      ]
     },
     "execution_count": 48,
     "metadata": {},
     "output_type": "execute_result"
    }
   ],
   "source": [
    "# Your answer goes here\n",
    "np_weight_kg = np_height_in/2.2\n",
    "np_weight_kg"
   ]
  },
  {
   "cell_type": "markdown",
   "metadata": {
    "id": "93cYajBTK4ic"
   },
   "source": [
    "Using `np_weight_kg` and `np_height_m` create a simple scatter plot.\n",
    "Hint: to do this you have several options, here are two of them: 1) use `plt.plot(x, y, 'o')`. The option 'o' here creates a scatter plot with circles; checkout help `plt.plot?` to find out about other symbols. 2) use `plt.scatter(x, y)` function."
   ]
  },
  {
   "cell_type": "code",
<<<<<<< HEAD
   "execution_count": 50,
   "metadata": {},
=======
   "execution_count": null,
   "metadata": {
    "id": "rQSmOqs1K4id",
    "outputId": "0f68fcfc-fabd-4020-c183-ec38dc941b79"
   },
>>>>>>> d51d8e3fd84e186610b9c186308772d0662b3377
   "outputs": [
    {
     "data": {
      "image/png": "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\n",
      "text/plain": [
       "<Figure size 432x288 with 1 Axes>"
      ]
     },
     "metadata": {
      "needs_background": "light"
     },
     "output_type": "display_data"
    }
   ],
   "source": [
    "# Your answer goes here\n",
    "from matplotlib import pyplot as plt\n",
    "plt.plot(np_weight_kg, np_height_m, 'o')\n",
    "plt.show()"
   ]
  },
  {
   "cell_type": "markdown",
   "metadata": {
    "id": "lzkD-iP0K4id"
   },
   "source": [
    "Now try to use the second option. But this time also use `plt.xlabel(\"X-label\")` & ``plt.ylabel(\"Y-label\")`` to give the axis appropriate names:"
   ]
  },
  {
   "cell_type": "code",
<<<<<<< HEAD
   "execution_count": 16,
   "metadata": {},
=======
   "execution_count": null,
   "metadata": {
    "id": "XJLKZVj3K4id",
    "outputId": "5d875128-7cec-46de-f15e-7f32496dad5a"
   },
>>>>>>> d51d8e3fd84e186610b9c186308772d0662b3377
   "outputs": [
    {
     "data": {
      "image/png": "iVBORw0KGgoAAAANSUhEUgAAAY4AAAEGCAYAAABy53LJAAAAOXRFWHRTb2Z0d2FyZQBNYXRwbG90bGliIHZlcnNpb24zLjUuMSwgaHR0cHM6Ly9tYXRwbG90bGliLm9yZy/YYfK9AAAACXBIWXMAAAsTAAALEwEAmpwYAAAeZUlEQVR4nO3df5RcZZ3n8ffHphk6EOhgmmzSGqMsNjKyJNrLCjqIB6UDM0Bg/UHWcWOG3ThnYJTV6YWMewZczx6QFlhXHDGOOUEX44+1CaCuDZMdycgOascEOwm0hPAr3dkkGNug1nGS5rt/3NuhUqnqrpv0reofn9c5darqee5z61vFQ39z73Pv8ygiMDMzq9ar6h2AmZlNLk4cZmaWiROHmZll4sRhZmaZOHGYmVkmx9U7gFqYPXt2LFiwoN5hmJlNKhs3bnwxIlpKy6dF4liwYAG9vb31DsPMbFKR9Fy5cp+qMjOzTJw4zMwsEycOMzPLxInDzMwyceIwM7NMpsVVVWY2NazbNEBXTz+DQwXmNTfR2dHGkkWt9Q5r2nHiMLNJYd2mAVZ291E4MAzAwFCBld19AE4eNeZTVWY2KXT19B9KGiMKB4bp6umvU0TTlxOHmU0Kg0OFTOWWHycOM5sU5jU3ZSq3/DhxmNmk0NnRRlNjw2FlTY0NdHa01Smi6Su3xCFptaQ9krZUqJ8l6T5JP5f0E0lvLqpbLKlf0nZJNxaVnyrpYUlPpc+z8orfzCaWJYtaueWqs2ltbkJAa3MTt1x1tgfG60B5rTku6QLgN8BXI+LNZeq7gN9ExKcknQl8ISIuktQA/AJ4D7AT+CmwNCK2SboN2BcRt6YJZVZE3DBWLO3t7eFJDs3MspG0MSLaS8tzO+KIiA3AvlE2OQtYn277JLBA0hzgXGB7ROyIiH8GvgFckba5ArgnfX0PsCSH0M3MbBT1HON4HLgKQNK5wOuA1wCtwAtF2+1MywDmRMQugPT5tEo7l7RCUq+k3r179+YQvpnZ9FTPxHErMEvSZuAvgU3AQUBlts18Pi0iVkVEe0S0t7QcsQ6JmZkdpbrdOR4R+4HlAJIEPJM+ZgCvLdr0NcBg+nq3pLkRsUvSXGBPDUM2MzPqeMQhqVnS8enb/wBsSJPJT4EzJL0+rb8aeCDd7gFgWfp6GXB/LWM2M7McjzgkrQUuBGZL2gncBDQCRMTdwJuAr0oaBrYB16R1ByVdB/QADcDqiNia7vZW4FuSrgGeB96XV/xmZlZebpfjTiS+HNfMLLuaX45rZmZTkxOHmZll4sRhZmaZOHGYmVkmThxmZpaJE4eZmWXixGFmZpk4cZiZWSZOHGZmlokTh5mZZeLEYWZmmThxmJlZJk4cZmaWSd0WcjKb6NZtGqCrp5/BoQLzmpvo7GhjyaLWsRuaTQB59l8nDrMy1m0aYGV3H4UDwwAMDBVY2d0H4ORhE17e/denqszK6OrpP/Q/3YjCgWG6evrrFJFZ9fLuv04cZmUMDhUylZtNJHn3XycOszLmNTdlKjebSPLuv7klDkmrJe2RtKVC/SmSHpT0uKStkpan5W2SNhc99ku6Pq27WdJAUd2lecVv01tnRxtNjQ2HlTU1NtDZ0VaniMyql3f/zXNwfA1wF/DVCvXXAtsi4jJJLUC/pHsjoh9YCCCpARgA7itqd2dEfDa3qM14ZQDRV1XZZJR3/80tcUTEBkkLRtsEmClJwEnAPuBgyTYXAU9HxHP5RGlW2ZJFrU4UNmnl2X/rOcZxF/AmYBDoAz4WES+XbHM1sLak7DpJP09Phc2qQZxmZlaknomjA9gMzCM5NXWXpJNHKiUdD1wOfLuozReB09PtdwG3V9q5pBWSeiX17t27d7xjNzObtuqZOJYD3ZHYDjwDnFlUfwnws4jYPVIQEbsjYjg9MvkycG6lnUfEqohoj4j2lpaWnL6Cmdn0U8/E8TzJGAaS5gBtwI6i+qWUnKaSNLfo7ZVA2Su2zMwsP7kNjktaC1wIzJa0E7gJaASIiLuBTwNrJPUBAm6IiBfTtjOA9wAfKdntbZIWkgysP1um3szMcpbnVVVLx6gfBC6uUPc74NVlyj80PtGZmdnR8p3jZmaWiROHmZll4sRhZmaZOHGYmVkmThxmZpaJE4eZmWXixGFmZpk4cZiZWSZOHGZmlokTh5mZZeLEYWZmmThxmJlZJk4cZmaWiROHmZll4sRhZmaZ5LYex2S3btMAXT39DA4VmNfcRGdHG0sWtdY7LDOzunPiKGPdpgFWdvdRODAMwMBQgZXdfQBOHmY27flUVRldPf2HksaIwoFhunr66xSRmdnE4cRRxuBQIVO5mdl0klvikLRa0h5JWyrUnyLpQUmPS9oqaXlR3bOS+iRtltRbVH6qpIclPZU+z8oj9nnNTZnKzcymkzyPONYAi0epvxbYFhHnABcCt0s6vqj+XRGxMCLai8puBNZHxBnA+vT9uOvsaKOpseGwsqbGBjo72vL4ODOzSSW3xBERG4B9o20CzJQk4KR024Nj7PYK4J709T3AkmMMs6wli1q55aqzaW1uQkBrcxO3XHW2B8bNzKjvVVV3AQ8Ag8BM4AMR8XJaF8BDkgL4UkSsSsvnRMQugIjYJem0SjuXtAJYATB//vzMwS1Z1OpEYWZWRj0HxzuAzcA8YCFwl6ST07q3R8RbgEuAayVdkHXnEbEqItojor2lpWWcQjYzs3omjuVAdyS2A88AZwJExGD6vAe4Dzg3bbNb0lyA9HlPzaM2M5vm6pk4ngcuApA0B2gDdkg6UdLMtPxE4GJg5MqsB4Bl6etlwP01jdjMzPIb45C0luRqqdmSdgI3AY0AEXE38GlgjaQ+QMANEfGipDcA9yVj5hwHfD0ifpDu9lbgW5KuIUk878srfjMzKy+3xBERS8eoHyQ5migt3wGcU6HNL0mPUszMrD5857iZmWXixGFmZpk4cZiZWSZOHGZmlokTh5mZZeLEYWZmmThxmJlZJk4cZmaWiROHmZll4sRhZmaZjDnliKQTgD8B/ohkCvQCyaSD34uIrfmGZ2ZmE82oiUPSzcBlwA+BH5NMY34C8Ebg1jSpfCIifp5vmGZmNlGMdcTx04i4uULdHekKfNmX1zMzs0lr1MQREd8bo34PXkzJzGxaqWpadUntwCeB16VtBERE/KscYzMzswmo2vU47gU6gT7g5fzCMbNqrds0QFdPP4NDBeY1N9HZ0caSRa2T/rNs4qs2ceyNiAdyjcTMqrZu0wAru/soHBgGYGCowMruPoBx/4Ney8+yyaHa+zhukvR3kpZKumrkkWtkZlZRV0//oT/kIwoHhunq6Z/Un2WTQ7VHHMuBM0nWDB85VRVAdx5BmdnoBocKmcony2fZ5FDtEcc5EdEeEcsiYnn6+LPRGkhaLWmPpC0V6k+R9KCkxyVtlbQ8LX+tpH+Q9ERa/rGiNjdLGpC0OX1cWvU3NZtC5jU3ZSqfLJ9lk0O1ieMxSWdl3PcaYPEo9dcC2yLiHOBC4HZJxwMHSW4qfBPwNuDaks++MyIWpo/vZ4zJbEro7GijqbHhsLKmxgY6O9om9WfZ5FDtqap3AMskPQP8nioux42IDZIWjLLPAGZKEnASsA84GBG7gF3pPl6S9ATQCmyrMlazKW9kULoWVzrV8rNsclBEjL2R9Lpy5RHx3BjtFgDfjYg3l6mbCTxAMnYyE/hA6Q2HafsNwJsjYn86BcqHgf1AL8mRya8qfPYKYAXA/Pnz3/rcc6OGamZmJSRtjIj20vJRT1VJOgmSBFHuUbzNUegANpNMnLgQuEvSySWf/R3g+ojYnxZ/ETg93X4XcHulnUfEqnRcpr2lpeUoQzQzs1JjjXHcL+l2SRdIOnGkUNIbJF0jqYfRxzFGsxzojsR24BmSow8kNZIkjXsj4tCVWxGxOyKGI+Jl4MvAuUf52WZmdpRGTRwRcRGwHvgIsFXSryX9EvifwFxgWUT8r6P87OeBiwAkzQHagB3pmMdXgCci4o7iBpLmFr29kmR6dzMzq6ExB8fTK5cyX70kaS3J1VKzJe0EbiK5D4SIuBv4NLBGUh/JYPsNEfGipHcAHwL6JG1Od/fXaRy3SVpIMrD+LElCMzOzGqp2ksP16dHHqGXFImLpaPuMiEHg4jLlPyJJJOXafKiaeM3MLD9jLeR0AjCD5KhhFq/8QT+ZZFDbzMymmbGOOD4CXE+SJDbySuLYD3whv7DMzGyiGmshp88Bn5P0lxHx+RrFZGZmE1hVYxwR8XlJ5wMLittExFdzisvMzCaoagfHv0Zy491mYGR+5QCcOMzMpplq56pqB86KauYnMTOzKa3a2XG3AP8iz0DMzGxyGOty3AdJZ7EFtkn6CcnsuABExOX5hmdmZhPNWKeqPluTKMzMbNIY63LcR2oViJmZTQ7VXlX1Eskpq2K/5pU1MXaMd2BmZjYxVXtV1R3AIPB1krvHryYZLO8HVpNMZmhmZtNAtVdVLY6IL0XESxGxPyJWAZdGxDeBWTnGZ2ZmE0y1ieNlSe+X9Kr08f6iOt/bYWY2jVSbOD5IskbGHmB3+vpPJTUB1+UUm5mZTUDVzlW1A7isQvWPxi8cMyu2btMAXT39DA4VmNfcRGdHG0sWtdY7rHExVb/bVP1exca6AfA/R8Rtkj5PmVNSEfHR3CIzm+bWbRpgZXcfhQPJ9HADQwVWdvcBTPo/RFP1u03V71VqrFNVT6TPvSTrcZQ+zCwnXT39h/4AjSgcGKarp79OEY2fqfrdpur3KjXWDYAPps/3AEg6MSJ+W4vAzKa7waFCpvLJZKp+t6n6vUpVNTgu6TxJ20iPQCSdI+lvx2izWtIeSVsq1J8i6UFJj0vaKml5Ud1iSf2Stku6saj8VEkPS3oqffalwDZlzWtuylQ+mUzV7zZVv1epaq+q+u9AB/BLgIh4HLhgjDZrgMWj1F8LbIuIc0huILxd0vGSGkiWpb0EOAtYKumstM2NwPqIOANYn743m5I6O9poamw4rKypsYHOjrY6RTR+pup3m6rfq1S1d44TES9IKi4arrRtuv0GSQtG2wSYqWSnJwH7gIPAvwG2j0xjIukbwBXAtvT5wrT9PcAPgRuq/Q5mk8nIYOpUvEJnqn63qfq9SlWbOF5Il44NSccDH+WVgfOjdRfwAMlUJjOBD0TEy5JagReKtttJkkwA5kTELoCI2CXptEo7l7QCWAEwf/78YwzVrD6WLGqdcn90RkzV7zZVv1exak9V/TnJqaVWkj/kC9P3x6KDZCnaeen+7pJ0MslcWKUy350eEasioj0i2ltaWo4lTjMzK1LtDYAvktw9Pp6WA7emy9Ful/QMcCZJYnpt0XavITkqAdgtaW56tDGX5E52MzOrobFuACx749+IY7wB8HngIuAfJc0B2oAdwBBwhqTXAwMkM/H+u7TNA8Ay4Nb0+f5j+HwzMzsKYx1x9Ba9/hRwU7U7lrSWZCB7tqSdadtGgIi4G/g0sEZSH8npqRvSIxskXQf0AA3A6ojYmu72VuBbkq4hSTzvqzYeMzMbH0rOFFWxobQpIhblHE8u2tvbo7e3d+wNzczsEEkbI6K9tLzawXHw9OlmZka2xGFmZjbm4HjxWuMzJO0fqQIiIk7OMzgzM5t4xprkcGatAjEzs8nBp6rMzCwTJw4zM8vEicPMzDJx4jAzs0ycOMzMLBMnDjMzy8SJw8zMMnHiMDOzTJw4zMwsEycOMzPLxInDzMwyqWrpWDN7xbpNA3T19DM4VGBecxOdHW0sWdRa77DMasaJwyyDdZsGWNndR+HAMAADQwVWdvcBOHnYtOFTVWYZdPX0H0oaIwoHhunq6a9TRGa158RhlsHgUCFTudlUlFvikLRa0h5JWyrUd0ranD62SBqWdKqktqLyzZL2S7o+bXOzpIGiukvzit+snHnNTZnKzaaiPI841gCLK1VGRFdELIyIhcBK4JGI2BcR/UXlbwV+B9xX1PTOkfqI+H5+4ZsdqbOjjabGhsPKmhob6Oxoq1NEZrWX2+B4RGyQtKDKzZcCa8uUXwQ8HRHPjVtgZsdgZADcV1XZdFb3q6okzSA5MrmuTPXVHJlQrpP074Fe4BMR8asK+10BrACYP3/++AVs096SRa1OFDatTYTB8cuARyNiX3GhpOOBy4FvFxV/ETgdWAjsAm6vtNOIWBUR7RHR3tLSMu5Bm5lNVxMhcZQ7qgC4BPhZROweKYiI3RExHBEvA18Gzq1RjGZmlqpr4pB0CvBO4P4y1UeMe0iaW/T2SqDsFVtmZpaf3MY4JK0FLgRmS9oJ3AQ0AkTE3elmVwIPRcRvS9rOAN4DfKRkt7dJWggE8GyZejMzy1meV1UtrWKbNSSX7ZaW/w54dZnyD41HbGZmdvQmwhiHmZlNIk4cZmaWiROHmZll4sRhZmaZOHGYmVkmThxmZpaJE4eZmWXixGFmZpk4cZiZWSZOHGZmlokTh5mZZeLEYWZmmThxmJlZJk4cZmaWiROHmZll4sRhZmaZ5LaQk01M6zYN0NXTz+BQgXnNTXR2tLFkUWu9wzKzScSJYxpZt2mAld19FA4MAzAwVGBldx+Ak4eZVS23U1WSVkvaI2lLhfpOSZvTxxZJw5JOTeueldSX1vUWtTlV0sOSnkqfZ+UV/1TU1dN/KGmMKBwYpqunv04RmdlklOcYxxpgcaXKiOiKiIURsRBYCTwSEfuKNnlXWt9eVHYjsD4izgDWp++tSoNDhUzlZmbl5JY4ImIDsG/MDRNLgbVVbHcFcE/6+h5gSfbIpq95zU2Zys3Myqn7VVWSZpAcmXynqDiAhyRtlLSiqHxOROwCSJ9Pq12kk19nRxtNjQ2HlTU1NtDZ0VaniMxsMpoIg+OXAY+WnKZ6e0QMSjoNeFjSk+kRTNXShLMCYP78+eMX7SQ2MgDuq6rM7FhMhMRxNSWnqSJiMH3eI+k+4FxgA7Bb0tyI2CVpLrCn0k4jYhWwCqC9vT3yCn6yWbKo1YnCzI5JXU9VSToFeCdwf1HZiZJmjrwGLgZGrsx6AFiWvl5W3M7MzGojtyMOSWuBC4HZknYCNwGNABFxd7rZlcBDEfHboqZzgPskjcT39Yj4QVp3K/AtSdcAzwPvyyt+MzMrTxFT/yxOe3t79Pb2jr2hmZkdImljyS0RwAS4qsrMzCYXJw4zM8vEicPMzDJx4jAzs0ycOMzMLBMnDjMzy8SJw8zMMnHiMDOzTJw4zMwsEycOMzPLxInDzMwyceIwM7NMnDjMzCwTJw4zM8vEicPMzDJx4jAzs0ycOMzMLJPclo41s+lh3aYBunr6GRwqMK+5ic6ONpYsaq13WJYjJw4zO2rrNg2wsruPwoFhAAaGCqzs7gNw8pjCcjtVJWm1pD2StlSo75S0OX1skTQs6VRJr5X0D5KekLRV0seK2twsaaCo3aV5xW9mY+vq6T+UNEYUDgzT1dNfp4isFvIc41gDLK5UGRFdEbEwIhYCK4FHImIfcBD4RES8CXgbcK2ks4qa3jnSLiK+n1/4ZjaWwaFCpnKbGnJLHBGxAdhX5eZLgbVpu10R8bP09UvAE4CPec0moHnNTZnKbWqo+1VVkmaQHJl8p0zdAmAR8OOi4usk/Tw9FTZrlP2ukNQrqXfv3r3jHbaZAZ0dbTQ1NhxW1tTYQGdHW50islqoe+IALgMeTU9THSLpJJJkcn1E7E+LvwicDiwEdgG3V9ppRKyKiPaIaG9packlcLPpbsmiVm656mxam5sQ0NrcxC1Xne2B8SluIlxVdTXpaaoRkhpJksa9EdE9Uh4Ru4u2+TLw3VoFaWblLVnU6kQxzdT1iEPSKcA7gfuLygR8BXgiIu4o2X5u0dsrgbJXbJmZWX5yO+KQtBa4EJgtaSdwE9AIEBF3p5tdCTwUEb8tavp24ENAn6TNadlfp1dQ3SZpIRDAs8BH8orfzMzKU0TUO4bctbe3R29vb73DMDObVCRtjIj20vKJMDhuZmaTiBOHmZllMi1OVUnaCzw3TrubDbw4TvsaL46pOo6pehMxLsdUnfGM6XURccT9DNMicYwnSb3lzvnVk2OqjmOq3kSMyzFVpxYx+VSVmZll4sRhZmaZOHFkt6reAZThmKrjmKo3EeNyTNXJPSaPcZiZWSY+4jAzs0ycOMzMLBMnDkBSW9FytJsl7Zd0vaRvFpU9WzR3Vmn7ZyX1pduN29wmkv5TunzuFklrJZ2QLq/7sKSn0ueya5JIWiypX9J2STfmHFOXpCfTdVLuk9RcoW0uv9MocVW11HCNf6t696mPpfFslXR9WlbvPlUuprr2qQox1bU/jRJX7ftURPhR9AAagP9HcuNLcfntwN9UaPMsMHuc42gFngGa0vffAj4M3AbcmJbdCHymwnd4GngDcDzwOHBWjjFdDByXln2mXEx5/U5jxHUz8FdV/Peu2W9V5z71ZpIZpWeQTHD698AZde5TlWKqW58aJaa69afR4qpHn/IRx5EuAp6OiEN3mksS8H5K1g2pgeOAJknHkXSWQeAK4J60/h5gSZl25wLbI2JHRPwz8I20XS4xRcRDEXEwrX8MeM04fdYxxVVlu5r+ViMVdepTbwIei4jfpf+9HiGZobqefapsTHXuU5V+p2rk2Z9GjauWfcqJ40hHLCwF/BGwOyKeqtAmgIckbZS0YjyCiIgB4LPA8ySrHf46Ih4C5kTErnSbXcBpZZq3Ai8Uvd/JOKzbPkpMxf4M+N+VdsE4/05VxDXWUsP1+q1q3qdI/rV6gaRXK1my+VLgtdSxT40SU7Fa96nRYqpLf6oiLqhhn3LiKCLpeOBy4NslVUsZPYu/PSLeAlwCXCvpgnGIZRbJv1ReD8wDTpT0p9U2L1N2zNddjxWTpE8CB4F7K+xi3H+nMeKqZqnhuvxW1KFPRcQTJKd9HgZ+QHIa5eCojV6Ry+80Vkz16FOjxFS3/jRGXCNq1qecOA53CfCzOHyJ2uOAq4BvVmoUEYPp8x7gPpLD1WP1buCZiNgbEQeAbuB8YLfSlRDT5z1l2u7k8H+JvIbqT90cTUxIWgb8CfDBSE+olsrpd6oYV0TsjojhiHgZ+HKFz6vHb1WvPkVEfCUi3hIRFwD7gKeob5+qFFNd+1S5mOrcnyrGBbXvU04chyuXsd8NPBkRO8s1kHSipJkjr0kG9cZjSdvngbdJmpGeu7wIeAJ4AFiWbrOMomV3i/wUOEPS69OjqKvTdrnEJGkxcANweUT8rlzDHH+n0eKqZqnhmv5WaV29+hSSTkuf55P8oVlLfftU2Zjq3acqxFTP/lQxrrSqtn1qPEbYp8KDZPDyl8ApJeVrgD8vKZsHfD99/QaSQ8bHga3AJ8cxpk8BT6b/gb8G/AHwamA9yb801gOnlsaUvr8U+AXJFR55x7Sd5Lzu5vRxdy1/p1Hi+hrQB/yc5H/eufX+rSZAn/pHYFu674vSsnr3qXIx1bVPVYiprv2pUlz16FOecsTMzDLxqSozM8vEicPMzDJx4jAzs0ycOMzMLBMnDjMzy8SJw6yEpDtHZh5N3/dI+rui97dL+niFtv9V0rvH2P/Nkv6qTHmzpL8oKZsr6bvp6w9LuivD92iR9INqtzerlhOH2ZH+L6/c5f0qYDbwh0X15wOPlmsYEX8TEX9/lJ/bDPxFSdnHSe5Sziwi9gK7JL39KOMxK8uJw+xIj5ImDpKEsQV4SdIsSX9AMkspkh5JJ4zrKZqyY42k96avL1WypsSPJP2PkSOH1FmSfihph6SPpmW3AqcrWS+hKy37tyTzEh1G0h9L+idJsyWdLukxST9Nj3h+U7TpOuCD4/KrmKWcOMxKRDKnz8F0WofzgX8CfgycB7STTB1yJ/DeiHgrsBr4b8X7kHQC8CXgkoh4B9BS8jFnAh0k8wXdJKmRZC2MpyNiYUR0Sno98KuI+H3Jvq9Mt700Il4EPgd8LiL+NUfOi9RLMmuq2bg5rt4BmE1QI0cd5wN3kEyNfT7wa2CAZK6fh5NpqGggmS212JnAjoh4Jn2/Fiieyvp7aUL4vaQ9wJwyMcwF9paUvYskeV0cEfvTsvN4ZQ2Nr5NM5z5iD8nUE2bjxonDrLyRcY6zSU5VvQB8AtgP/B+gNSLOG6V9uem1ixUfRQxT/v/FAnBCSdkOknmH3khyNDGWE9L9mI0bn6oyK+9Rkim990UylfY+ksHr80imrm6RdB6ApEZJf1jS/kngDZIWpO8/UMVnvgTMLHr/C2BByTbPkcyK+tWiz3yMZCwEktlYi72R8ZuF2Axw4jCrpI/kaqrHSsp+Hcl6Bu8FPiPpcZLZW88vbhwRBZIrpH4g6UfAbpLTXBVFxC+BRyVtkdQVEb8Fnpb0L0u26ycZ8P62pNOB64GPS/oJyemt4s95F/C9LF/cbCyeHdcsJ5JOiojfpOtxfIFkMaA7M+7jSuCtEfFfRtlmBlCIiJB0NbA0Iq5I6zYAV0TEr47+m5gdzmMcZvn5j+kqdscDm0iussokIu6T9OoxNnsrcFeaoIZI1uhGUgtwh5OGjTcfcZiZWSYe4zAzs0ycOMzMLBMnDjMzy8SJw8zMMnHiMDOzTP4/2mhu93VMUc8AAAAASUVORK5CYII=\n",
      "text/plain": [
       "<Figure size 432x288 with 1 Axes>"
      ]
     },
     "metadata": {
      "needs_background": "light"
     },
     "output_type": "display_data"
    }
   ],
   "source": [
    "# Your answer goes here\n",
    "plt.plot(np_weight_kg, np_height_m, 'o')\n",
    "plt.xlabel(\"Weight(kg)\")\n",
    "plt.ylabel(\"Height(m)\")\n",
    "plt.show()"
   ]
  },
  {
   "cell_type": "markdown",
   "metadata": {
    "id": "ICISlRwIK4id"
   },
   "source": [
    "Calculate bmi and call it `bmi`, round it to 2 digits and print it. Hint: $bmi = weight(kg)\\  /\\  height ^ 2(m)$."
   ]
  },
  {
   "cell_type": "code",
<<<<<<< HEAD
   "execution_count": 40,
   "metadata": {},
=======
   "execution_count": null,
   "metadata": {
    "id": "HVQEnXUxK4id",
    "outputId": "ca61e79f-64f8-468f-f2a2-b4670e84e27e"
   },
>>>>>>> d51d8e3fd84e186610b9c186308772d0662b3377
   "outputs": [
    {
     "data": {
      "text/plain": [
       "[22.0, 28.0, 29.0, 26.0, 24.0, 27.0, 27.0, 27.0, 30.0, 26.0, 27.0, 28.0]"
      ]
     },
     "execution_count": 40,
     "metadata": {},
     "output_type": "execute_result"
    }
   ],
   "source": [
    "# Your answer goes here\n",
    "bmi = []\n",
    "for i in range(12):\n",
    "    a = round(np_weight_kg[i]/np_height_m[i]**2,0)\n",
    "    bmi.append(a)\n",
    "    \n",
    "bmi"
   ]
  },
  {
   "cell_type": "markdown",
   "metadata": {
    "id": "HxDtAr7gK4id"
   },
   "source": [
    "Checkout the type of `bmi`:"
   ]
  },
  {
   "cell_type": "code",
<<<<<<< HEAD
   "execution_count": 41,
   "metadata": {},
=======
   "execution_count": null,
   "metadata": {
    "id": "FmchPARjK4id",
    "outputId": "b932eadb-a495-401f-c221-68cdde0f1d50"
   },
>>>>>>> d51d8e3fd84e186610b9c186308772d0662b3377
   "outputs": [
    {
     "data": {
      "text/plain": [
       "list"
      ]
     },
     "execution_count": 41,
     "metadata": {},
     "output_type": "execute_result"
    }
   ],
   "source": [
    "# Your answer goes here\n",
    "type(bmi)"
   ]
  },
  {
   "cell_type": "markdown",
   "metadata": {
    "id": "A8eupkRNK4id"
   },
   "source": [
    "Create a Pandas dafaframe from np_weight_kg, np_height_m, bmi with the column names `weight`, `height`, `bmi`. Call this dataframe `players`:"
   ]
  },
  {
   "cell_type": "code",
   "execution_count": null,
   "metadata": {
    "id": "duF8ChoMK4id",
    "outputId": "4838d162-f8b9-498b-c439-7a76584f8242"
   },
   "outputs": [
    {
     "data": {
      "text/html": [
       "<div>\n",
       "<style scoped>\n",
       "    .dataframe tbody tr th:only-of-type {\n",
       "        vertical-align: middle;\n",
       "    }\n",
       "\n",
       "    .dataframe tbody tr th {\n",
       "        vertical-align: top;\n",
       "    }\n",
       "\n",
       "    .dataframe thead th {\n",
       "        text-align: right;\n",
       "    }\n",
       "</style>\n",
       "<table border=\"1\" class=\"dataframe\">\n",
       "  <thead>\n",
       "    <tr style=\"text-align: right;\">\n",
       "      <th></th>\n",
       "      <th>weight</th>\n",
       "      <th>height</th>\n",
       "      <th>bmi</th>\n",
       "    </tr>\n",
       "  </thead>\n",
       "  <tbody>\n",
       "    <tr>\n",
       "      <th>0</th>\n",
       "      <td>77.272727</td>\n",
       "      <td>1.8542</td>\n",
       "      <td>22.0</td>\n",
       "    </tr>\n",
       "    <tr>\n",
       "      <th>1</th>\n",
       "      <td>97.727273</td>\n",
       "      <td>1.8796</td>\n",
       "      <td>28.0</td>\n",
       "    </tr>\n",
       "    <tr>\n",
       "      <th>2</th>\n",
       "      <td>95.454545</td>\n",
       "      <td>1.8034</td>\n",
       "      <td>29.0</td>\n",
       "    </tr>\n",
       "    <tr>\n",
       "      <th>3</th>\n",
       "      <td>92.727273</td>\n",
       "      <td>1.9050</td>\n",
       "      <td>26.0</td>\n",
       "    </tr>\n",
       "    <tr>\n",
       "      <th>4</th>\n",
       "      <td>85.909091</td>\n",
       "      <td>1.8796</td>\n",
       "      <td>24.0</td>\n",
       "    </tr>\n",
       "    <tr>\n",
       "      <th>5</th>\n",
       "      <td>88.636364</td>\n",
       "      <td>1.8288</td>\n",
       "      <td>27.0</td>\n",
       "    </tr>\n",
       "    <tr>\n",
       "      <th>6</th>\n",
       "      <td>86.363636</td>\n",
       "      <td>1.7780</td>\n",
       "      <td>27.0</td>\n",
       "    </tr>\n",
       "    <tr>\n",
       "      <th>7</th>\n",
       "      <td>88.181818</td>\n",
       "      <td>1.8034</td>\n",
       "      <td>27.0</td>\n",
       "    </tr>\n",
       "    <tr>\n",
       "      <th>8</th>\n",
       "      <td>90.909091</td>\n",
       "      <td>1.7272</td>\n",
       "      <td>30.0</td>\n",
       "    </tr>\n",
       "    <tr>\n",
       "      <th>9</th>\n",
       "      <td>80.909091</td>\n",
       "      <td>1.7526</td>\n",
       "      <td>26.0</td>\n",
       "    </tr>\n",
       "    <tr>\n",
       "      <th>10</th>\n",
       "      <td>90.454545</td>\n",
       "      <td>1.8288</td>\n",
       "      <td>27.0</td>\n",
       "    </tr>\n",
       "    <tr>\n",
       "      <th>11</th>\n",
       "      <td>91.818182</td>\n",
       "      <td>1.8034</td>\n",
       "      <td>28.0</td>\n",
       "    </tr>\n",
       "  </tbody>\n",
       "</table>\n",
       "</div>"
      ],
      "text/plain": [
       "       weight  height   bmi\n",
       "0   77.272727  1.8542  22.0\n",
       "1   97.727273  1.8796  28.0\n",
       "2   95.454545  1.8034  29.0\n",
       "3   92.727273  1.9050  26.0\n",
       "4   85.909091  1.8796  24.0\n",
       "5   88.636364  1.8288  27.0\n",
       "6   86.363636  1.7780  27.0\n",
       "7   88.181818  1.8034  27.0\n",
       "8   90.909091  1.7272  30.0\n",
       "9   80.909091  1.7526  26.0\n",
       "10  90.454545  1.8288  27.0\n",
       "11  91.818182  1.8034  28.0"
      ]
     },
     "execution_count": 12,
     "metadata": {},
     "output_type": "execute_result"
    }
   ],
   "source": [
    "# Your answer goes here\n"
   ]
  },
  {
   "cell_type": "markdown",
   "metadata": {
    "id": "LsHGRlBkK4id"
   },
   "source": [
    "See if you can reproduce the above plot by using DataFrame method `.plot.scatter()` on `players` DataFrame:"
   ]
  },
  {
   "cell_type": "code",
   "execution_count": null,
   "metadata": {
    "id": "F4GdVvZfK4id",
    "outputId": "284afb5a-0aeb-40cf-a9f3-9c48ea51b214"
   },
   "outputs": [
    {
     "data": {
      "text/plain": [
       "<matplotlib.axes._subplots.AxesSubplot at 0x11d3c4a20>"
      ]
     },
     "execution_count": 13,
     "metadata": {},
     "output_type": "execute_result"
    },
    {
     "data": {
      "image/png": "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\n",
      "text/plain": [
       "<Figure size 432x288 with 1 Axes>"
      ]
     },
     "metadata": {
      "needs_background": "light"
     },
     "output_type": "display_data"
    }
   ],
   "source": [
    "# Your answer goes here\n"
   ]
  },
  {
   "cell_type": "markdown",
   "metadata": {
    "id": "2vfL7pxWK4id"
   },
   "source": [
    "Now with ggplot style:"
   ]
  },
  {
   "cell_type": "code",
   "execution_count": null,
   "metadata": {
    "id": "VZpztAXeK4ie",
    "outputId": "fe6dce62-333a-49f9-d42e-ac083d831e0b"
   },
   "outputs": [
    {
     "data": {
      "text/plain": [
       "<matplotlib.axes._subplots.AxesSubplot at 0x11b8464e0>"
      ]
     },
     "execution_count": 14,
     "metadata": {},
     "output_type": "execute_result"
    },
    {
     "data": {
      "image/png": "iVBORw0KGgoAAAANSUhEUgAAAZUAAAENCAYAAADHbvgVAAAABHNCSVQICAgIfAhkiAAAAAlwSFlzAAALEgAACxIB0t1+/AAAADl0RVh0U29mdHdhcmUAbWF0cGxvdGxpYiB2ZXJzaW9uIDMuMC4yLCBodHRwOi8vbWF0cGxvdGxpYi5vcmcvOIA7rQAAIABJREFUeJzt3X90VPWd//HnZBISwkB+DSENgQS0FUaQCghoAINM01DkR1uMFaTrtnv4zXKgsuV4WroulgYxJoeSWHXZKsvWynJWdLUru+H3CYtEUih1bBAtdcMgkF9mYpgkE+b7R75OjQlwlZuZyfB6/JU7986d9+fdqS/u59651+L3+/2IiIiYICrUBYiISORQqIiIiGkUKiIiYhqFioiImEahIiIiplGoiIiIaaKD8SGlpaVUVlaSkJBAYWFhl/VNTU0888wzXLhwgZiYGJYuXcrQoUOpqamhpKSEhoYGLBYLTqeTb33rWwDs3LmTvXv3MmDAAAAeeughxo4dG4zhiIjIVQQlVHJycsjLy6OkpKTb9a+88gpZWVmsXbuWc+fOsW3bNtavX4/VamXhwoUMHz6cy5cvs27dOu644w4yMjIAmDlzJrNnzw7GEERExICgTH85HA5sNttV11dXVzN69GgABg8ezKVLl2hoaCApKYnhw4cD0LdvXwYPHkxdXV0wShYRkS8hLM6pZGZm8tZbbwFw5swZLl261CU8Ll68yJ///GduvfXWwGt79uzh0UcfpbS0lKampqDWLCIiXQVl+ut65s6dywsvvMDatWsZOnQow4YNIyrqr3nn9XopLCzkkUceIT4+HoDc3FzmzZsHwMsvv8z27dtZtmxZt/svKyujrKwMgIKCAlpbW3t4RKETHR2Nz+cLdRlhT30yTr0yJtL71KdPH0PbhUWoxMfHBwLB7/ezYsUKUlNTAfD5fBQWFjJlyhQmTpwYeE9iYmLg7+nTp7Np06ar7t/pdOJ0OgPLNTU1Zg8hbNjt9ogen1nUJ+PUK2MivU/p6emGtguL6a9PPvkkkPB79+5l5MiRxMfH4/f7+dWvfsXgwYO5//77O72nvr4+8PexY8cYMmRIUGsWEZGugnKkUlxcjMvlwuPxsGTJEvLz8wMhkpuby7lz59i6dStRUVFkZGSwZMkSAKqqqjh06BBDhw5l7dq1wF8vHd6xYwdnz57FYrEwcOBAFi1aFIyhiIjINVhuxlvfu93uUJfQYyL9ENws6pNx6pUxkd6nXjX9JSIikUGhIiIiplGoiIiIaRQqIiJiGoWKiIiYRqEiIiKmUaiIiIhpFCoiImIahYqIiJhGoSIiIqZRqIiIiGkUKiIiYpqweJ6KiMgXdd7TStERN56WdvrHWlmTnU6azdiDpKTn6EhFRHqloiNuqmq8uD1tVNV4KSqP3LuP9yYKFRHplTwt7Z2WGz+3LKGhUBGRXql/rPWayxIaQTunUlpaSmVlJQkJCRQWFnZZ39TUxDPPPMOFCxeIiYlh6dKlDB06FIATJ07w61//mitXrjB9+nTmzp0LwMWLFykuLqapqYlhw4axcuVKoqN1mkjkZrAmO52icjeNnzmnIqEXtCOVnJwcHnvssauuf+WVV8jKyuKpp55ixYoVvPDCCwBcuXKFbdu28dhjj1FUVER5eTnV1dUA7Nixg5kzZ7Jlyxb69evHvn37gjEUEQkDabY+bPpmFs/MvoUnv5mlk/RhImih4nA4sNlsV11fXV3N6NGjARg8eDCXLl2ioaGBM2fOkJaWxqBBg4iOjuaee+6hoqICv9/PO++8w6RJk4CO0KqoqAjKWEREpHthM1eUmZnJW2+9xYgRIzhz5gyXLl2irq6Ouro6UlJSAtulpKTw3nvv4fF4iI+Px2rtmEdNTk6mrq6u232XlZVRVlYGQEFBAXa7vecHFCLR0dERPT6zqE/GqVfGqE8dwiZU5s6dywsvvMDatWsZOnQow4YNIyoqCr/f32Vbi8XyhfbtdDpxOp2B5ZqamhuuN1zZ7faIHp9Z1Cfj1CtjIr1P6enGzlmFTajEx8ezbNkyAPx+PytWrCA1NZXW1lZqa2sD29XW1pKUlET//v1pbm6mvb0dq9VKXV0dycnJoSpfREQIo0uKP/nkE3w+HwB79+5l5MiRxMfHc8stt3D+/HkuXryIz+fjyJEjjB8/HovFwu23387Ro0cBOHDgAOPHjw/lEEREbnpBO1IpLi7G5XLh8XhYsmQJ+fn5gRDJzc3l3LlzbN26laioKDIyMliyZAkAVquVH/zgB/z85z/nypUrTJs2jSFDhgCwYMECiouL+e1vf8uwYcO47777gjUcERHphsXf3UmLCOd2R+7tHCJ9Xtcs6pNx6pUxkd4no+dUwmb6S0REej+FioiImEahIiIiplGoiIiIaRQqIiJiGoWKiIiYRqEiIiKmUaiIiIhpFCoiImIahYqIiJhGoSIiIqZRqIiIiGkUKiIiYpqweUiXSDg772ml6IgbT0s7/WOtrMlOJ83WJ9RliVxXsL+7OlIRMaDoiJuqGi9uTxtVNV6KyiP38QkSWYL93VWoiBjgaWnvtNz4uWWRcBXs725Qpr9KS0uprKwkISGBwsLCLuubm5vZsmULtbW1tLe3M2vWLKZNm8Yf//hHXnzxxcB2brebVatWMWHCBEpKSnC5XMTHxwOwfPlysrKygjEcuQn1j7WCp63zskgvEOzvblBCJScnh7y8PEpKSrpd/+abb5KRkcG6detobGxk1apVTJkyhVGjRrF582YAmpqaWLlyJWPGjAm8b+HChUyaNCkYQ5Cb3JrsdIrK3TR+Zl5apDcI9nc3KKHicDi4ePHiVddbLBa8Xi9+vx+v14vNZiMqqvPM3NGjR7nzzjuJjY3t6XJFukiz9WHTN7NCXYbIFxbs725YXP2Vl5fHk08+yeLFi7l8+TKrV6/uEirl5eXcf//9nV576aWX2LVrF6NGjWLBggXExMR0u/+ysjLKysoAKCgowG6398xAwkB0dHREj88s6pNx6pUx6lOHsAiVkydPkpmZyfr167lw4QIbNmxgxIgRgfMl9fX1fPjhh52mvubPn09iYiI+n49nn32WV199lXnz5nW7f6fTidPpDCzX1NT07IBCyG63R/T4zKI+GadeGRPpfUpPNzZtFhZXf+3fv5+JEydisVhIS0sjNTUVt/uvl7397//+LxMmTCA6+q8ZmJSUhMViISYmhmnTpnHmzJlQlC4iIp8RFqFit9s5deoUAA0NDbjdblJTUwPry8vLyc7O7vSe+vp6APx+PxUVFQwZMiR4BYuISLeCMv1VXFyMy+XC4/GwZMkS8vPz8fl8AOTm5vLd736X0tJSfvSjHwGwYMECBgwYAMDFixepqanB4XB02ueWLVtobGwEIDMzk0WLFgVjKCIicg0Wv9/vD3URwfbZqbVIE+nzumZRn4xTr4yJ9D71qnMqIiISGRQqIiJiGoWKiIiYRqEiIiKmUaiIiIhpFCoiImIahYqIiJhGoSIiIqZRqIiIiGkUKiIiYhqFioiImEahIiIiplGoiIiIacLiyY/h7rynlaIjbjwt7fSPtbImO500W59QlyUiEnZ0pGJA0RE3VTVe3J42qmq8FJVH7q3zRURuhELFAE9Le6flxs8ti4hIh6BNf5WWllJZWUlCQgKFhYVd1jc3N7NlyxZqa2tpb29n1qxZTJs2DYAHH3yQoUOHAh0Pwvnxj38MdDwVsri4mKamJoYNG8bKlSs7PcfeLP1jreBp67wsIiJdBC1UcnJyyMvLo6SkpNv1b775JhkZGaxbt47GxkZWrVrFlClTiI6Opk+fPmzevLnLe3bs2MHMmTPJzs7mueeeY9++feTm5ppe+5rsdIrK3TR+5pyKiIh0FbTpL4fDgc1mu+p6i8WC1+vF7/fj9Xqx2WxERV29PL/fzzvvvMOkSZOAjtCqqKgwvW6ANFsfNn0zi2dm38KT38zSSXoRkasIm6u/8vLyePLJJ1m8eDGXL19m9erVgVBpa2tj3bp1WK1W5syZw4QJE/B4PMTHx2O1dkxFJScnU1dX1+2+y8rKKCsrA6CgoAC73R6cQYVAdHR0RI/PLOqTceqVMepTh7AJlZMnT5KZmcn69eu5cOECGzZsYMSIEcTHx1NaWkpycjIXLlzgn/7pnxg6dCjx8fGG9+10OnE6nYHlmpqanhhCWLDb7RE9PrOoT8apV8ZEep/S041N+4fN1V/79+9n4sSJWCwW0tLSSE1Nxe3uuHQ3OTkZgEGDBuFwODh79iz9+/enubmZ9vaOK7Hq6uoC24mISGiETajY7XZOnToFQENDA263m9TUVJqammhr67jyqrGxkaqqKjIyMrBYLNx+++0cPXoUgAMHDjB+/PiQ1S8iImDx+/3+YHxQcXExLpcLj8dDQkIC+fn5+Hw+AHJzc6mrq6O0tJT6+noA5syZw9SpU6mqquK5554jKiqKK1euMHPmTO677z4ALly40OWS4piYmOvW8ukRUCSK9ENws6hPxqlXxkR6n4xOfwUtVMKJQkXUJ+PUK2MivU+97pyKiIj0fgoVERExjUJFRERMo1ARERHTKFRERMQ0ChURETGNQkVEREyjUBEREdMoVERExDQKFRERMY1CRURETKNQERER0xgOlYaGhi/0uoiI3HwMh8qqVau6fX316tWmFSMiX855Tyv/sOcsS197n3/Yc5aPmloj4rOk9zEcKt3dIb+5uTnwHHkRCZ2iI26qary4PW1U1XgpKu+5xzsE87Ok97nuM+qXLl0KQGtra+DvTzU1NZGdnd0zlYmIYZ6W9k7LjZ9b7q2fJb3PdUNl5cqV+P1+fvGLX7By5cpO6xITEw09uKW0tJTKykoSEhIoLCzssr65uZktW7ZQW1tLe3s7s2bNYtq0aZw9e5bnn3+ey5cvExUVxXe+8x3uueceAEpKSnC5XMTHxwOwfPlysrKyjIxZJOL0j7WCp63zcgR8lvQ+1w0Vh8MBwLZt24iNjf1SH5KTk0NeXh4lJSXdrn/zzTfJyMhg3bp1NDY2smrVKqZMmUKfPn1YsWIFX/nKV6irq2PdunWMGTOGfv36AbBw4UImTZr0pWoSiSRrstMpKnfT2NJO/1gra7KNPaUv3D9Lep/rhsqnrFYrZWVlnD17Fq/X22ndihUrrvleh8PBxYsXr7reYrHg9Xrx+/14vV5sNhtRUVGdjoKSk5NJSEigsbExECoi0iHN1odN38yKuM+S3sdwqGzdupW//OUvjBs3joSEBFOLyMvL48knn2Tx4sVcvnyZ1atXd7kA4MyZM/h8PgYNGhR47aWXXmLXrl2MGjWKBQsWEBMT0+3+y8rKKCsrA6CgoAC73W5q/eEkOjo6osdnFvXJOPXKGPWpg+FQOXnyJFu3bu2Ro4STJ0+SmZnJ+vXruXDhAhs2bGDEiBGB8yX19fX88pe/ZPny5YGwmT9/PomJifh8Pp599lleffVV5s2b1+3+nU4nTqczsFxTU2P6GMKF3W6P6PGZRX0yTr0yJtL7ZOT8OXyBS4rtdjttbW3X3/BL2L9/PxMnTsRisZCWlkZqaipud8dlis3NzRQUFPC9732Pr33ta4H3JCUlYbFYiImJYdq0aZw5c6ZHahMREeOueaTyxz/+MfD31KlT2bx5MzNmzCAxMbHTdqNGjbqhIux2O6dOnWLkyJE0NDTgdrtJTU3F5/Px1FNPMXXqVO6+++5O76mvrycpKQm/309FRQVDhgy5oRpEROTGWfzd/arx/1u+fPn1d2CxsHXr1mtuU1xcjMvlwuPxkJCQQH5+Pj6fD4Dc3Fzq6uooLS2lvr4egDlz5jB16lQOHTrEM888Q0ZGRqeasrKyePzxx2lsbAQgMzOTRYsWERcXd/0RQ+AoKBJF+iG4WdQn49QrYyK9T0anv64ZKpFKoSLqk3HqlTGR3ifTz6mIiIhcj+Grvz5/i5ZPxcTEkJKSwoQJE8jNzcVq1a9rRURuVoZDZcaMGRw+fJgZM2aQkpJCTU0Ne/bsYdKkSdhsNl5//XVqa2t5+OGHe7JeEREJY4ZD5cCBA/zkJz8hOTk58Nqdd97JE088wdNPP82oUaPYsGGDQkVE5CZm+JxKfX19l6urYmNjA1dsfeUrX+GTTz4xtzoREelVDB+pjBs3js2bN/Ptb3+blJQUamtr2b17N+PGjQPg9OnTDBw4sMcKFRGR8Gf4kuLW1lb+/d//naNHj1JXV0dSUhJ333038+bNIzY2loaGBnw+X6+4940uKRb1yTj1yphI75PRS4oNH6n06dOHBQsWsGDBgm7Xf/5X9iIicvO5Zqi4XK7A81Q+e8uWz7vR27SIiEhkuGaobNu2LfCkxmeeeabbbYzcpkVERG4Ouk1LhIn0eV2zqE/GqVfGRHqfeuQ2LT6fj3fffZcjR44A4PV6uzwFUkREbl6GT9R/+OGHbNq0iZiYGGpra7nnnntwuVwcPHiQ1atX92SNIiLSSxg+Unn++ed58MEHKS4uJjq6I4scDgd/+tOfeqw4ERHpXQwfqVRXVzNlypROr8XFxdHa2mp6USLS1XlPK0VH3Hha2ukfa2VNdjpptj6hLssUkTq2SB3XtRg+Uhk4cCAffPBBp9fOnDlDWlqa6UWJSFdFR9xU1Xhxe9qoqvFSVB45F5xE6tgidVzXYvhI5cEHH6SgoIBvfOMb+Hw+XnnlFf77v/+bJUuWGHp/aWkplZWVJCQkBC5T/qzm5ma2bNlCbW0t7e3tzJo1i2nTpgEdN7P8j//4DwC+853vkJOTA8AHH3xASUkJra2t3Hnnnfzt3/4tFovF6JBEehVPS3un5cbPLfdmkTq2SB3XtRg+Uhk3bhyPPfYYjY2NOBwOampqWLt2LWPGjDH0/pycHB577LGrrn/zzTfJyMhg8+bN/OM//iPbt2/H5/PR1NTErl272LhxIxs3bmTXrl00NTUBHed5Fi9ezJYtW/joo484ceKE0eGI9Dr9Y63XXO7NInVskTquazEcKj6fj/fffx+/34/NZqOlpYXf/e53hn/46HA4sNlsV11vsVjwer34/X68Xi82m42oqChOnDjBHXfcgc1mw2azcccdd3DixAnq6+u5fPkyX/va17BYLEydOpWKigqjwxHpddZkpzPCHkd6/xhus8exJtvY7wZ6g0gdW6SO61oMT39t3bqVv/zlL4wbN65H7vOVl5fHk08+yeLFi7l8+TKrV68mKiqKuro6UlJSAtslJydTV1fX5fWUlBTq6uq63XdZWRllZWUAFBQU9IqbXn5Z0dHRET0+s/TGPtntsC0r+P9RCkavQjU2M3XXp0gY1xdlOFROnjzJ1q1b6devX48UcvLkSTIzM1m/fj0XLlxgw4YNjBgxotttLRYLX+RGAE6nE6fTGViO5F+9Rvqves2iPhmnXhkT6X0y/Rf1drudtra2L13Q9ezfv5+JEydisVhIS0sjNTUVt9tNcnIytbW1ge0+ve3+p890+VRtbW2np1KKiEjwXfNI5bN3Jp46dSqbN29mxowZXaa/zLhLsd1u59SpU4wcOZKGhgbcbjepqamkpaXx0ksvBU7Onzx5kvnz52Oz2ejbty+nT5/mq1/9KocOHSIvL++G6xARkS/vmjeUXL58+fV3YPAuxcXFxbhcLjweDwkJCeTn5+Pz+QDIzc2lrq6O0tLSwOOJ58yZw9SpUwHYt28fr7zyCtBxSfGnlxq///77lJaW0trayte//nV+8IMfGLqkWDeUFPXJOPXKmEjvk9HpL92lOMJE+hfbLOqTceqVMZHepx65S7GIiMi1KFRERMQ0ChURETGNQkVEREyjUBEREdMoVERExDQKFRERMY1CRURETKNQERER0yhURETENAoVERExjUJFRERMo1ARERHTKFRERMQ0hh8nLCJdnfe0UnTEjaelnf6xVtZkp5Nm6xPqskRCRkcqIjeg6Iibqhovbk8bVTVeisoj91k9IkYE5UiltLSUyspKEhISKCws7LL+tdde4/DhwwBcuXKF6upqtm3bRmNjI0VFRYHtLl68SH5+PjNnzmTnzp3s3buXAQMGAPDQQw8xduzYYAxHJMDT0t5pufFzyyI3m6CESk5ODnl5eZSUlHS7fvbs2cyePRuAt99+mzfeeAObzYbNZmPz5s1AR9gsXryYCRMmBN43c+bMwPtEQqF/rBU8bZ2XRW5iQZn+cjgc2Gw2Q9uWl5eTnZ3d5fVTp06RlpbGwIEDzS5P5Etbk53OCHsc6f1juM0ex5psY49cFYlUYXWivqWlhRMnTvDDH/6wy7ruwmbPnj0cOnSI4cOH8/3vf/+qwVVWVkZZWRkABQUF2O1284sPE9HR0RE9PrOY1Se7HbZlRXaQ6DtljPrUIaxC5fjx49x2221dwsHn83H8+HHmz58feC03N5d58+YB8PLLL7N9+3aWLVvW7X6dTidOpzOwXFNT0wPVhwe73R7R4zOL+mScemVMpPcpPd3YP57C6uqv8vJyJk+e3OX13//+9wwbNozExMTAa4mJiURFRREVFcX06dN5//33g1mqiIh0I2xCpbm5GZfLxfjx47us627qq76+PvD3sWPHGDJkSI/XKCIi1xaU6a/i4mJcLhcej4clS5aQn5+Pz+cDOqaxoCMYxowZQ1xcXKf3trS08Ic//IFFixZ1en3Hjh2cPXsWi8XCwIEDu6wXEZHgs/j9fn+oiwg2tztyf6AW6fO6ZlGfjFOvjIn0PvXKcyoiItK7KVRERMQ0ChURETGNQkVEREyjUBEREdMoVERExDQKFRERMY1CRURETKNQERER0yhURETENAoVERExjUJFRERMo1ARERHTKFRERMQ0YfU4YQmu855Wio648bS00z/WyprsdNJsfUJdloj0YjpSuYkVHXFTVePF7WmjqsZLUXnkPmdGRIIjKEcqpaWlVFZWkpCQQGFhYZf1r732GocPHwbgypUrVFdXs23bNmw2G8uXLycuLo6oqCisVisFBQUANDU1UVRUxKVLlxg4cCCrV6/GZrMFYzgRw9PS3mm58XPLIiJfVFBCJScnh7y8PEpKSrpdP3v2bGbPng3A22+/zRtvvNEpIH72s58xYMCATu/ZvXs3o0ePZu7cuezevZvdu3fz8MMP99wgIlD/WCt42jovi4jcgKBMfzkcDsNHEeXl5WRnZ193u4qKCu69914A7r33XioqKm6oxpvRmux0RtjjSO8fw232ONZkG3tcqIjI1YTVifqWlhZOnDjBD3/4w06v//znPwfgG9/4Bk6nE4CPP/6YpKQkAJKSkmhsbLzqfsvKyigrKwOgoKAAu93eE+WHhejoaMPjs9thW9bNGSRfpE83O/XKGPWpQ1iFyvHjx7nttts6HdVs2LCB5ORkPv74Y5544gnS09NxOBxfaL9OpzMQRgA1NTWm1Rxu7HZ7RI/PLOqTceqVMZHep/R0Y/8ADaurv8rLy5k8eXKn15KTkwFISEjgrrvu4syZM4Hl+vp6AOrr67uccxERkeALm1Bpbm7G5XIxfvz4wGter5fLly8H/v7DH/7A0KFDARg/fjwHDx4E4ODBg9x1113BL1pERDoJyvRXcXExLpcLj8fDkiVLyM/Px+fzAZCbmwvAsWPHGDNmDHFxcYH3ffzxxzz11FMAtLe3M3nyZL7+9a8DMHfuXIqKiti3bx92u501a9YEYygiInINFr/f7w91EcHmdkfuj/wifV7XLOqTceqVMZHep155TkVERHo3hYqIiJhGoSIiIqZRqIiIiGkUKiIiYhqFioiImEahIiIiplGoiIiIaRQqIiJiGoWKiIiYRqEiIiKmUaiIiIhpFCoiImIahYqIiJhGoSIiIqYJykO6SktLqaysJCEhgcLCwi7rX3vtNQ4fPgzAlStXqK6uZtu2bXi9XkpKSmhoaMBiseB0OvnWt74FwM6dO9m7d2/gMcIPPfQQY8eODcZwROQqzntaKTrixtPSTv9YK2uy00mz9Ql1WRJEQQmVnJwc8vLyKCkp6Xb97NmzmT17NgBvv/02b7zxBjabjba2NhYuXMjw4cO5fPky69at44477iAjIwOAmTNnBt4nIqFXdMRNVY23Y8HTRlG5m03fzAppTRJcQZn+cjgc2Gw2Q9uWl5eTnZ0NQFJSEsOHDwegb9++DB48mLq6uh6rU0RujKelvdNy4+eWJfKF1TmVlpYWTpw4waRJk7qsu3jxIn/+85+59dZbA6/t2bOHRx99lNLSUpqamoJZqoh0o3+s9ZrLEvmCMv1l1PHjx7ntttu6HNV4vV4KCwt55JFHiI+PByA3N5d58+YB8PLLL7N9+3aWLVvW7X7LysooKysDoKCgALvd3oOjCK3o6OiIHp9Z1Cfjvkivnri/H4+/eZoGbxuJcTH8LO9r2BP69nCF4UHfqQ5hFSrl5eVMnjy502s+n4/CwkKmTJnCxIkTA68nJiYG/p4+fTqbNm266n6dTidOpzOwXFNTY2LV4cVut0f0+MyiPhn3RXrVB/j59MF/faHtE2pqPumZwsJMpH+n0tPTDW0XNtNfzc3NuFwuxo8fH3jN7/fzq1/9isGDB3P//fd32r6+vj7w97FjxxgyZEjQahURke4F5UiluLgYl8uFx+NhyZIl5Ofn4/P5gI5pLOgIhjFjxhAXFxd4X1VVFYcOHWLo0KGsXbsW+Oulwzt27ODs2bNYLBYGDhzIokWLgjEUERG5Bovf7/eHuohgc7vdoS6hx0T6IbhZ1Cfj1CtjIr1PvW76S0REej+FioiImEahIiIiplGoiIiIaRQqIiJiGoWKiIiYRqEiIiKmUaiIiIhpFCoiImIahYqIiJhGoSIiIqZRqIiIiGkUKiIiYpqb8i7FIiLSM3SkEmHWrVsX6hJ6BfXJOPXKGPWpg0JFRERMo1ARERHTKFQijNPpDHUJvYL6ZJx6ZYz61EEn6kVExDQ6UhEREdNEh7oA+fJef/119u3bh8ViYciQISxbtoyGhgaKi4tpampi2LBhrFy5kujom/t/5u769Pzzz+NyuYiPjwdg+fLlZGVlhbbQMPC73/2OvXv34vf7mT59OjNnzqSpqYmioiIuXbrEwIEDWb16NTabLdSlhlR3fdq5cyd79+5lwIABADz00EOMHTs2xJWcoMo2AAAGvklEQVQG3839X5terK6ujv/6r/+iqKiIPn368PTTT3PkyBEqKyuZOXMm2dnZPPfcc+zbt4/c3NxQlxsyV+sTwMKFC5k0aVKIKwwfH374IXv37mXjxo1ER0ezceNGxo4dy969exk9ejRz585l9+7d7N69m4cffjjU5YbM1foEMHPmTGbPnh3iCkNL01+92JUrV2htbaW9vZ3W1lYSExN55513Av+hzMnJoaKiIsRVht7n+5SUlBTqksLSuXPn+OpXv0psbCxWq5WRI0dy7NgxKioquPfeewG49957b/rv1NX6JB0UKr1UcnIys2bNYunSpSxatIj4+HiGDx9OfHw8Vqs1sE1dXV2IKw2t7vo0ZswYAF566SUeffRRXnjhBdra2kJcaegNGTKEd999F4/HQ0tLC7///e+pra3l448/DgRxUlISjY2NIa40tK7WJ4A9e/bw6KOPUlpaSlNTU4grDQ1Nf/VSTU1NVFRUUFJSQnx8PE8//TQnTpwIdVlhp7s+HTp0iPnz55OYmIjP5+PZZ5/l1VdfZd68eaEuN6QyMjKYM2cOTzzxBHFxcWRmZhIVpX93ft7V+pSbmxv4Dr388sts376dZcuWhbja4FOo9FKnTp0iNTU1cFJw4sSJVFVV0dzcTHt7O1arlbq6OpKTk0NcaWh116fTp08zdepUAGJiYpg2bRr/+Z//Gcoyw8Z9993HfffdB8BvfvMbUlJSSEhIoL6+nqSkJOrr6wO9vJl116fExMTA+unTp7Np06ZQlRdS+mdIL2W323nvvfdoaWnB7/dz6tQpMjIyuP322zl69CgABw4cYPz48SGuNLS669PgwYOpr68HwO/3U1FRwZAhQ0JcaXj4+OOPAaipqeHYsWNkZ2czfvx4Dh48CMDBgwe56667QlliWOiuT59+pwCOHTt2036n9OPHXmznzp0cOXIEq9VKVlYWS5Ysoa6ursslxTExMaEuNaS669PGjRsD5wYyMzNZtGgRcXFxIa409NavX4/H4yE6Oprvf//7jB49Go/HQ1FRETU1NdjtdtasWXPTX1LcXZ9++ctfcvbsWSwWCwMHDmTRokU35UUhChURETGNpr9ERMQ0ChURETGNQkVEREyjUBEREdMoVERExDQKFZEQe+6559i1a5ehbUtKSvjtb3/bwxWJfHkKFZEQW7RokWm3iMnPz+ejjz4yZV8iX4ZCRURETKMfP4rcgP379/PWW2+xbt06AFauXMmwYcNYs2YNAEuXLuXHP/4xMTEx/Mu//AsffPABAwYM4MEHH+See+4BOqa0UlJS+N73vgfAq6++yhtvvIHFYiE/P59nn32WLVu2kJaWRklJCbGxsVy6dIl3332XjIwM/v7v/560tDR+9rOf8e677xIbGxv47E8/QyRYdKQicgMcDgd/+tOfuHLlCvX19bS3t1NVVQXAhQsX8Hq9pKWl8cQTTzB58mT++Z//mVWrVrFt2zb+7//+r8v+Tpw4weuvv85Pf/pTtmzZgsvl6rJNeXk5DzzwAL/+9a9JS0sLnGN5/PHHAdi8eTP/+q//qkCRkFCoiNyAQYMG0bdvX86ePYvL5WLMmDEkJydz7tw5XC4XI0aMoLKykoEDBzJt2jSsVivDhw9n4sSJgRt/ftaRI0eYNm0aQ4YMITY2lgceeKDLNhMnTuTWW2/FarUyefJkzp49G4SRihijW9+L3KCRI0ficrn46KOPcDgc9OvXD5fLxenTp3E4HFy6dIn33nuPRx55JPCe9vb2wO33P6u+vp5bbrklsJySktJlm8/eYj02Nhav12vugERugEJF5AY5HA6OHz/OxYsX+fa3v02/fv04fPgwp0+fJi8vj/Pnz+NwOPjpT3963X0lJSUFniIIdPpbpDfQ9JfIDXI4HLzzzju0traSkpLCiBEjOHHiRODxA+PGjeP8+fMcOnQIn8+Hz+fjzJkzVFdXd9nX3XffzYEDB6iurqalpcXw71c+lZCQwIULF8wamsgXpiMVkRuUnp5OXFwcI0eOBCA+Pp5BgwYxYMAAoqKi6Nu3Lz/5yU948cUXefHFF/H7/WRmZvI3f/M3XfZ15513MmPGDB5//HGioqL47ne/y6FDh4iONvZ/1QceeICSkhJaW1tZtGiRTtZL0OmSYpEwVl1dzY9+9CN+85vfYLVaQ12OyHVp+kskzBw7dgyfz0dTUxP/9m//xrhx4xQo0mto+kskzPzP//wPJSUlREVF4XA4+Lu/+7tQlyRimKa/RETENJr+EhER0yhURETENAoVERExjUJFRERMo1ARERHTKFRERMQ0/w9Zbb6wRZwoYgAAAABJRU5ErkJggg==\n",
      "text/plain": [
       "<Figure size 432x288 with 1 Axes>"
      ]
     },
     "metadata": {},
     "output_type": "display_data"
    }
   ],
   "source": [
    "# Your answer goes here\n"
   ]
  }
 ],
 "metadata": {
  "colab": {
   "provenance": []
  },
  "kernelspec": {
   "display_name": "Python 3 (ipykernel)",
   "language": "python",
   "name": "python3"
  },
  "language_info": {
   "codemirror_mode": {
    "name": "ipython",
    "version": 3
   },
   "file_extension": ".py",
   "mimetype": "text/x-python",
   "name": "python",
   "nbconvert_exporter": "python",
   "pygments_lexer": "ipython3",
<<<<<<< HEAD
   "version": "3.9.12"
=======
   "version": "3.9.7"
>>>>>>> d51d8e3fd84e186610b9c186308772d0662b3377
  }
 },
 "nbformat": 4,
 "nbformat_minor": 4
}
